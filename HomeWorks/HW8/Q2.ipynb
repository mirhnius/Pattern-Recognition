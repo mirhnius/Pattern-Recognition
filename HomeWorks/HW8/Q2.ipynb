{
 "cells": [
  {
   "cell_type": "code",
   "execution_count": 29,
   "metadata": {},
   "outputs": [],
   "source": [
    "import os\n",
    "import scipy \n",
    "import numpy as np\n",
    "import seaborn as sns\n",
    "import matplotlib.pyplot as plt\n",
    "import scipy.cluster.hierarchy as sch\n",
    "import scipy.spatial.distance as distance\n",
    "from sklearn.metrics import accuracy_score\n",
    "from sklearn.preprocessing import MinMaxScaler \n",
    "from sklearn.cluster import AgglomerativeClustering\n",
    "from sklearn.metrics import confusion_matrix\n"
   ]
  },
  {
   "cell_type": "code",
   "execution_count": 30,
   "metadata": {},
   "outputs": [],
   "source": [
    "dirname = os.path.dirname(os.path.abspath(\"__file__\"))\n",
    "filename = dirname +  '\\data\\DS1\\Data.csv'\n",
    "dataset = np.loadtxt(filename, delimiter=',', unpack=True)\n",
    "dataset = dataset.T\n",
    "filename = dirname +  '\\data\\DS1\\Labels.csv'\n",
    "labels = np.loadtxt(filename, delimiter=',', unpack=True)"
   ]
  },
  {
   "cell_type": "code",
   "execution_count": 31,
   "metadata": {},
   "outputs": [],
   "source": [
    "dataset = MinMaxScaler().fit_transform(dataset)"
   ]
  },
  {
   "cell_type": "code",
   "execution_count": 32,
   "metadata": {},
   "outputs": [],
   "source": [
    "hc = AgglomerativeClustering(n_clusters = 3, affinity='euclidean')\n",
    "y_hc = hc.fit_predict(dataset)\n",
    "y_hc = y_hc + 1"
   ]
  },
  {
   "cell_type": "code",
   "execution_count": 33,
   "metadata": {},
   "outputs": [],
   "source": [
    "all_data = []\n",
    "class_number = 3\n",
    "for i in range(1,class_number+1):\n",
    "    c = dataset[np.where(labels == i), :]\n",
    "    c = np.reshape(c, (-1,13))\n",
    "    all_data.append(np.array(c))"
   ]
  },
  {
   "cell_type": "code",
   "execution_count": 34,
   "metadata": {},
   "outputs": [],
   "source": [
    "clusters_mean = []\n",
    "for i in range(class_number):\n",
    "    clusters_mean.append(np.mean(all_data[i], axis=0))"
   ]
  },
  {
   "cell_type": "code",
   "execution_count": 35,
   "metadata": {},
   "outputs": [],
   "source": [
    "mean_dist_mean = []\n",
    "for i in range(class_number):\n",
    "    m =distance.cdist(all_data[i],np.array(clusters_mean[i]).reshape(1,-1), 'euclidean')\n",
    "    mean_dist_mean.append(np.mean(m , axis=0))"
   ]
  },
  {
   "cell_type": "code",
   "execution_count": 36,
   "metadata": {},
   "outputs": [
    {
     "name": "stdout",
     "output_type": "stream",
     "text": [
      "Mean Distance Mean for Agglomerative  Clustering are  [array([0.45533345]), array([0.61783077]), array([0.48035977])]\n"
     ]
    }
   ],
   "source": [
    "print(\"Mean Distance Mean for Agglomerative  Clustering are \", mean_dist_mean)"
   ]
  },
  {
   "cell_type": "code",
   "execution_count": 37,
   "metadata": {},
   "outputs": [
    {
     "data": {
      "image/png": "[encoded data removed]",
      "text/plain": [
       "<Figure size 432x288 with 1 Axes>"
      ]
     },
     "metadata": {
      "needs_background": "light"
     },
     "output_type": "display_data"
    }
   ],
   "source": [
    "dendrogram = sch.dendrogram(sch.linkage(dataset, method=\"ward\"))\n",
    "plt.xlabel('Customers')\n",
    "plt.xlabel('Euclidean distances')\n",
    "plt.show()"
   ]
  },
  {
   "cell_type": "code",
   "execution_count": 38,
   "metadata": {},
   "outputs": [],
   "source": [
    "def find_permutation(n_clusters, real_labels, plabels):\n",
    "    permutation = []\n",
    "    for i in range(1,n_clusters+1):\n",
    "        idx = plabels == i\n",
    "        new_labels = scipy.stats.mode(real_labels[idx])[0][0]\n",
    "        permutation.append(new_labels)\n",
    "    return permutation"
   ]
  },
  {
   "cell_type": "code",
   "execution_count": 39,
   "metadata": {},
   "outputs": [],
   "source": [
    "permutation = find_permutation(3, labels, y_hc)\n",
    "new_labels = [ permutation[label-1] for label in y_hc]"
   ]
  },
  {
   "cell_type": "code",
   "execution_count": 40,
   "metadata": {},
   "outputs": [
    {
     "data": {
      "text/plain": [
       "Text(91.68, 0.5, 'predicted label')"
      ]
     },
     "execution_count": 40,
     "metadata": {},
     "output_type": "execute_result"
    },
    {
     "data": {
      "image/png": "[encoded data removed]",
      "text/plain": [
       "<Figure size 432x288 with 1 Axes>"
      ]
     },
     "metadata": {
      "needs_background": "light"
     },
     "output_type": "display_data"
    }
   ],
   "source": [
    "mat = confusion_matrix(labels, new_labels)\n",
    "sns.heatmap(mat.T, square=True, annot=True, fmt='d', cbar=False)\n",
    "plt.xlabel('true label')\n",
    "plt.ylabel('predicted label')"
   ]
  },
  {
   "cell_type": "code",
   "execution_count": 41,
   "metadata": {},
   "outputs": [],
   "source": [
    "def S(X,Y):\n",
    "    dist = []\n",
    "    for i in range(len(X)):\n",
    "        dist.append(scipy.spatial.distance.cdist(Y,X[i].reshape(1,-1), 'euclidean'))\n",
    "    dist = np.array(dist)\n",
    "    minval = np.min(dist[np.nonzero(dist)])\n",
    "    return minval \n",
    "\n",
    "def SI(all_clusters):\n",
    "    n = len(all_clusters)\n",
    "    S_by_own = np.zeros((n,1))\n",
    "    for i in range(n):\n",
    "         S_by_own[i] = S(all_clusters[i],all_clusters[i])\n",
    "        \n",
    "    S_by_each_other = []  \n",
    "    for i in range(n):\n",
    "        for j in range(i+i,n):\n",
    "            S_by_each_other.append(S(all_clusters[i],all_clusters[j]))     \n",
    "    si = np.min(np.array(S_by_own)) / np.min(np.array(S_by_each_other))\n",
    "    return si\n",
    "\n",
    "def Sw(data):\n",
    "    sw = np.zeros((data[0].shape[1],data[0].shape[1])) \n",
    "    for i in range(len(data)):\n",
    "        cluster = data[i]\n",
    "        mu = np.mean(cluster, axis=0)\n",
    "        si = np.zeros((data[0].shape[1],data[0].shape[1]))\n",
    "        for j in range(cluster.shape[0]):\n",
    "            x = cluster[j].reshape(-1,1)\n",
    "            si += (x - mu).dot((x - mu).T)\n",
    "        sw += si\n",
    "    return sw\n",
    "\n",
    "\n",
    "def Sb(data):\n",
    "    n = len(data)\n",
    "    clusters_mean = np.zeros((data[0].shape[1],n))\n",
    "    for i in range(n):\n",
    "        clusters_mean[:,i] = np.mean(data[i], axis=0)\n",
    "    mean = np.mean(clusters_mean, axis=1).reshape(-1,1)\n",
    "    sb =  np.zeros((data[0].shape[1], data[0].shape[1]))\n",
    "    for i in range(n) :\n",
    "        ni = data[i].shape[0]\n",
    "        m = clusters_mean[:,i].reshape(-1,1)\n",
    "        sb += ni * (m - mean).dot((m - mean).T)\n",
    "    return sb   "
   ]
  },
  {
   "cell_type": "code",
   "execution_count": 42,
   "metadata": {},
   "outputs": [],
   "source": [
    "yclusters = []\n",
    "for i in range(3):\n",
    "    c = dataset[np.where(y_hc == i+1), :]\n",
    "    c = np.reshape(c, (-1,13))\n",
    "    yclusters.append(np.array(c))"
   ]
  },
  {
   "cell_type": "code",
   "execution_count": 43,
   "metadata": {},
   "outputs": [
    {
     "name": "stdout",
     "output_type": "stream",
     "text": [
      "Seperation Index for Agglomerative Clustering is 0.77\n"
     ]
    }
   ],
   "source": [
    "print(\"Seperation Index for Agglomerative Clustering is {:,.2f}\".format(SI(yclusters)))"
   ]
  },
  {
   "cell_type": "code",
   "execution_count": 44,
   "metadata": {},
   "outputs": [
    {
     "name": "stdout",
     "output_type": "stream",
     "text": [
      "Fisher Discriminant Index for Agglomerative Clustering is 16.55\n"
     ]
    }
   ],
   "source": [
    "S_W = Sw(yclusters)\n",
    "S_B = Sb(yclusters)\n",
    "\n",
    "\n",
    "FDI = np.trace(np.trace(np.linalg.inv(S_W))*(S_B))\n",
    "print(\"Fisher Discriminant Index for Agglomerative Clustering is {:,.2f}\".format(FDI))"
   ]
  },
  {
   "cell_type": "code",
   "execution_count": 46,
   "metadata": {},
   "outputs": [],
   "source": [
    "def k_means(samples, num_clusters, max_num_itr=100):\n",
    "    \n",
    "    #Initialization\n",
    "    centroids = [samples[np.random.randint(len(samples))] for i in range(num_clusters)]\n",
    "    \n",
    "    for itr in range(max_num_itr):\n",
    "        #Assignment step \n",
    "        sq_dists = np.sum(np.square(np.array([samples - centroid for centroid in centroids])), axis=2)\n",
    "        assignments = np.argmin(sq_dists, axis=0) + 1\n",
    "        assigned_samples = [samples[assignments==i] for i in range (1,num_clusters+1)]\n",
    "        \n",
    "        #Update step\n",
    "        new_centroids = []\n",
    "        for i in range(1,num_clusters+1):\n",
    "            if len(assigned_samples[i-1] > 0):\n",
    "                new_centroids.append(np.mean(assigned_samples[i-1], axis=0))\n",
    "            else:# I don't now it is true or not\n",
    "                new_centroids.append(centroids[i-1])\n",
    "                \n",
    "        #Stoping condition \n",
    "        if(np.array_equal(new_centroids, centroids)):\n",
    "            break\n",
    "        centroids = new_centroids\n",
    "    return centroids, assigned_samples, assignments, itr"
   ]
  },
  {
   "cell_type": "code",
   "execution_count": 51,
   "metadata": {},
   "outputs": [],
   "source": [
    "def Mean_Dist_Mean(all_data, clusters_mean, class_number):\n",
    "    mean_dist_mean = []\n",
    "    for i in range(class_number):\n",
    "        m =distance.cdist(all_data[i],np.array(clusters_mean[i]).reshape(1,-1), 'euclidean')\n",
    "        mean_dist_mean.append(np.mean(m , axis=0))\n",
    "    return mean_dist_mean"
   ]
  },
  {
   "cell_type": "code",
   "execution_count": 47,
   "metadata": {},
   "outputs": [],
   "source": [
    "all_samples = MinMaxScaler().fit_transform(dataset)                              \n",
    "centroids, clusters, plabels, itr = k_means(all_samples, 3, max_num_itr=100)"
   ]
  },
  {
   "cell_type": "code",
   "execution_count": 48,
   "metadata": {},
   "outputs": [],
   "source": [
    "from sklearn.cluster import KMeans\n",
    "kmeans = KMeans(n_clusters=3)\n",
    "kmeans.fit(all_samples)\n",
    "y_kmeans = kmeans.predict(all_samples) + 1"
   ]
  },
  {
   "cell_type": "code",
   "execution_count": 49,
   "metadata": {},
   "outputs": [],
   "source": [
    "clusters_mean = []\n",
    "for i in range(class_number):\n",
    "    clusters_mean.append(np.mean(all_data[i], axis=0))"
   ]
  },
  {
   "cell_type": "code",
   "execution_count": 52,
   "metadata": {},
   "outputs": [
    {
     "name": "stdout",
     "output_type": "stream",
     "text": [
      "Mean Distance Mean for K-Means(my implementation) Clustering are  [array([0.4999563]), array([0.56714801]), array([0.48744504])]\n",
      "Mean Distance Mean for K-Means(library)  Clustering are  [array([0.45533345]), array([0.61783077]), array([0.48035977])]\n"
     ]
    }
   ],
   "source": [
    "m1 = Mean_Dist_Mean(clusters, centroids, 3)        \n",
    "m2 = Mean_Dist_Mean(all_data, clusters_mean, 3)  \n",
    "print(\"Mean Distance Mean for K-Means(my implementation) Clustering are \", m1)\n",
    "print(\"Mean Distance Mean for K-Means(library)  Clustering are \", m2)"
   ]
  },
  {
   "cell_type": "code",
   "execution_count": 53,
   "metadata": {},
   "outputs": [
    {
     "name": "stdout",
     "output_type": "stream",
     "text": [
      "Seperation Index for k-Means(my implementation) Clustering is 0.82\n",
      "Seperation Index for k-Means(library) Clustering is 0.86\n"
     ]
    }
   ],
   "source": [
    "y_si = np.zeros((10,1))\n",
    "p_si = np.zeros((10,1))\n",
    "for j in range(10):    \n",
    "    centroids, clusters, plabels, itr = k_means(all_samples, 3, max_num_itr=100)\n",
    "    kmeans = KMeans(n_clusters=3)\n",
    "    kmeans.fit(all_samples)\n",
    "    y_kmeans = kmeans.predict(all_samples) + 1\n",
    "    pclusters = []\n",
    "    \n",
    "    for i in range(3):\n",
    "        c = all_samples[np.where(plabels == i+1), :]\n",
    "        c = np.reshape(c, (-1,13))\n",
    "        pclusters.append(np.array(c))\n",
    "    \n",
    "    yclusters = []\n",
    "    for l in range(3):\n",
    "        c = all_samples[np.where(y_kmeans == l+1), :]\n",
    "        c = np.reshape(c, (-1,13))\n",
    "        yclusters.append(np.array(c))\n",
    "             \n",
    "    y_si[j,0] = SI(yclusters) \n",
    "    p_si[j,0] = SI(pclusters)                    \n",
    "\n",
    "print(\"Seperation Index for k-Means(my implementation) Clustering is {:,.2f}\".format(np.mean(p_si)))  \n",
    "print(\"Seperation Index for k-Means(library) Clustering is {:,.2f}\".format(np.mean(y_si))) "
   ]
  },
  {
   "cell_type": "code",
   "execution_count": 55,
   "metadata": {},
   "outputs": [
    {
     "name": "stdout",
     "output_type": "stream",
     "text": [
      "Fisher Discriminant Index for k-Means(my implementation) Clustering is 1.27\n",
      "Fisher Discriminant Index for k-Means(library) Clustering is 1.28\n"
     ]
    }
   ],
   "source": [
    "FDI_y = np.zeros((10,1))\n",
    "FDI_p = np.zeros((10,1))\n",
    "for j in range(10):    \n",
    "    centroids, clusters, plabels, itr = k_means(all_samples, 3, max_num_itr=100)\n",
    "    kmeans = KMeans(n_clusters=3)\n",
    "    kmeans.fit(all_samples)\n",
    "    y_kmeans = kmeans.predict(all_samples) + 1\n",
    "    pclusters = []\n",
    "    \n",
    "    for i in range(3):\n",
    "        c = all_samples[np.where(plabels == i+1), :]\n",
    "        c = np.reshape(c, (-1,13))\n",
    "        pclusters.append(np.array(c))\n",
    "    \n",
    "    yclusters = []\n",
    "    for l in range(3):\n",
    "        c = all_samples[np.where(y_kmeans == l+1), :]\n",
    "        c = np.reshape(c, (-1,13))\n",
    "        yclusters.append(np.array(c))\n",
    "             \n",
    "    S_W = Sw(yclusters)\n",
    "    S_B = Sb(yclusters)\n",
    "    FDI_y[j,0] = np.trace(np.linalg.inv(S_W)*(S_B))  \n",
    "   \n",
    "    S_W = Sw(pclusters)\n",
    "    S_B = Sb(pclusters)\n",
    "    FDI_p[j,0] = np.trace(np.linalg.inv(S_W)*(S_B))  \n",
    "                \n",
    "print(\"Fisher Discriminant Index for k-Means(my implementation) Clustering is {:,.2f}\".format(np.mean(FDI_p)))      \n",
    "print(\"Fisher Discriminant Index for k-Means(library) Clustering is {:,.2f}\".format(np.mean(FDI_y)))"
   ]
  },
  {
   "cell_type": "code",
   "execution_count": null,
   "metadata": {},
   "outputs": [],
   "source": []
  }
 ],
 "metadata": {
  "kernelspec": {
   "display_name": "Python 3",
   "language": "python",
   "name": "python3"
  },
  "language_info": {
   "codemirror_mode": {
    "name": "ipython",
    "version": 3
   },
   "file_extension": ".py",
   "mimetype": "text/x-python",
   "name": "python",
   "nbconvert_exporter": "python",
   "pygments_lexer": "ipython3",
   "version": "3.7.6"
  }
 },
 "nbformat": 4,
 "nbformat_minor": 4
}
