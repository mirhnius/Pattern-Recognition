{
 "cells": [
  {
   "cell_type": "code",
   "execution_count": 40,
   "metadata": {},
   "outputs": [],
   "source": [
    "import numpy as np\n",
    "import pandas as pd\n",
    "import seaborn as sns\n",
    "import statsmodels.api as sm\n",
    "import matplotlib.pyplot as plt\n",
    "from sklearn.preprocessing import MinMaxScaler \n",
    "from sklearn.metrics import confusion_matrix\n",
    "from sklearn.utils import shuffle \n",
    "from sklearn.metrics import classification_report\n",
    "from sklearn.model_selection import train_test_split as tts\n",
    "from sklearn.svm import SVC\n",
    "from sklearn.multiclass import OneVsRestClassifier"
   ]
  },
  {
   "cell_type": "code",
   "execution_count": 41,
   "metadata": {},
   "outputs": [],
   "source": [
    "# set hyper-parameters and call init\n",
    "reg_strngth = 1000 #regularization strength\n",
    "learning_rate = 0.0001"
   ]
  },
  {
   "cell_type": "code",
   "execution_count": 42,
   "metadata": {},
   "outputs": [],
   "source": [
    "# Feature Selection\n",
    "def remove_correlated_features(X): # X is a Data Frame\n",
    "    corr_threshold = 0.9\n",
    "    corr = X.corr()\n",
    "    drop_columns = np.full(corr.shape[0], False, dtype=bool) #initialization\n",
    "    for i in range(corr.shape[0]):\n",
    "        for j in range(i + 1, corr.shape[0]): # for not checking elements twice and deleting both columns\n",
    "            if corr.iloc[i,j] >= corr_threshold:\n",
    "                drop_columns[j] = True\n",
    "    columns_dropped = X.columns[drop_columns]\n",
    "    X.drop(columns_dropped, axis=0, inplace=True)\n",
    "    return X"
   ]
  },
  {
   "cell_type": "code",
   "execution_count": 43,
   "metadata": {},
   "outputs": [],
   "source": [
    "def remove_less_significant_features(X, Y):\n",
    "    sl = 0.05\n",
    "    regression_ols = None\n",
    "    columns_dropped = np.array([])\n",
    "    for itr in range(0, len(X.columns)):\n",
    "        regression_ols = sm.OLS(Y, X).fit()\n",
    "        max_col = regression_ols.pvalues.idxmax()\n",
    "        max_val = regression_ols.pvalues.max()\n",
    "        if max_val > sl:\n",
    "            X.drop(max_col, axis='columns', inplace=True)\n",
    "            columns_dropped = np.append(columns_dropped, [max_col])\n",
    "        else:\n",
    "            break\n",
    "    regression_ols.summary()\n",
    "    return (X,columns_dropped)\n"
   ]
  },
  {
   "cell_type": "code",
   "execution_count": 44,
   "metadata": {},
   "outputs": [],
   "source": [
    "def compute_cost(W, X, Y):\n",
    "    N = X.shape[0]\n",
    "    distances = 1 - Y * (np.dot(X, W))\n",
    "    distances[distances < 0] = 0 # like max(0, distances) because in the end the distances should be >= 0\n",
    "    hinge_loss = reg_strngth * (np.sum(distances) / N)\n",
    "    cost = 1 / 2 * np.dot(W, W) + hinge_loss\n",
    "    return cost"
   ]
  },
  {
   "cell_type": "code",
   "execution_count": 45,
   "metadata": {},
   "outputs": [],
   "source": [
    "def calculate_cost_gradient(W, X_batch, Y_batch):\n",
    "    if type(Y_batch) == np.float64 or type(Y_batch) == np.int64 : # if data is just a number change it to an arry to dot operation be possible\n",
    "        Y_batch = np.array([Y_batch])\n",
    "        X_batch = np.array([X_batch])\n",
    "    distance = 1.0 - (Y_batch * np.dot(X_batch, W))\n",
    "    if type(distance) == np.float64 or type(distance) == np.int64:\n",
    "         distance = np.array([distance])\n",
    "    dw = np.zeros(len(W))\n",
    "    for ind, d in enumerate(distance):\n",
    "        if max(0, d) == 0:\n",
    "            di = W\n",
    "        else:           \n",
    "            di = W - (reg_strngth * Y_batch[ind] * X_batch[ind])\n",
    "        dw += di\n",
    "    dw  = dw / len(Y_batch)\n",
    "    return dw\n"
   ]
  },
  {
   "cell_type": "code",
   "execution_count": 46,
   "metadata": {},
   "outputs": [],
   "source": [
    "def sgd(features, outputs):\n",
    "    max_epochs = 150\n",
    "    weights = np.zeros(features.shape[1])\n",
    "    nth = 0\n",
    "    prev_cost = float(\"inf\") #biggest number that let algorithme continue after first iteration\n",
    "    cost_threshold = 0.1 # to end itreation if reached this percision\n",
    "    \n",
    "    for epoch in range(1, max_epochs):\n",
    "        X, Y = shuffle(features, outputs)#for random sampleing\n",
    "        #print(X)\n",
    "        for ind, x in enumerate(X):\n",
    "            ascent = calculate_cost_gradient(weights, x, Y[ind])\n",
    "            weights = weights - (learning_rate * ascent)  \n",
    "            #checking convegence with 2 conditions \n",
    "            if epoch == 2 ** nth or epoch == max_epochs - 1:\n",
    "                cost = compute_cost(weights, features, outputs)\n",
    "                if abs(prev_cost - cost) < cost_threshold * prev_cost:\n",
    "                     return weights\n",
    "            prev_cost = cost \n",
    "            nth += 1      \n",
    "    return weights\n"
   ]
  },
  {
   "cell_type": "code",
   "execution_count": 47,
   "metadata": {},
   "outputs": [],
   "source": [
    "def SVM(X, Y):\n",
    "    #inserting 1 inevery row for interceptb based on lecture slides\n",
    "    X.insert(loc=len(X.columns), column='intercept', value=1)\n",
    "    X_train, X_test, y_train, y_test = tts(X, Y, test_size=0.2, random_state=42)\n",
    "\n",
    "    X_train = X_train.to_numpy()\n",
    "    print(\"X\")\n",
    "    y_train = y_train.to_numpy()\n",
    "    print(\"Y\")\n",
    "    W = sgd(X_train,y_train)\n",
    "    print(\"done\")\n",
    "\n",
    "    #testing the model \n",
    "    X_test = X_test.to_numpy()\n",
    "    y_test = y_test.to_numpy()\n",
    "   # X_test = X_test[:,np.newaxis]\n",
    "    y_predict = np.array([])\n",
    "    for i in range(X_test.shape[0]):\n",
    "        test = X_test[i]\n",
    "        yp = np.sign(np.dot(test.tolist(), W.tolist()))\n",
    "        y_predict = np.append(y_predict, yp) \n",
    "    return y_predict"
   ]
  },
  {
   "cell_type": "code",
   "execution_count": 48,
   "metadata": {},
   "outputs": [],
   "source": [
    "def label_maker(Y,AgeMap,y_train_n, y_test_n):\n",
    "    y = Y.map(AgeMap).tolist()\n",
    "    y_test = [y[i] for i in y_test_n] \n",
    "    y_train = [y[i] for i in y_train_n] \n",
    "    y = pd.Series(y)\n",
    "    y_test = pd.Series(y_test)\n",
    "    y_train = pd.Series(y_train)\n",
    "    return (y, y_train, y_test)"
   ]
  },
  {
   "cell_type": "code",
   "execution_count": 49,
   "metadata": {},
   "outputs": [],
   "source": [
    "def normalization(X,Y):\n",
    "    #filter features\n",
    "    X = remove_correlated_features(X)   \n",
    "    #X, columns_dropped = remove_less_significant_features(X,Y)  \n",
    "    #normalization\n",
    "    X_normalized = MinMaxScaler().fit_transform(X.values)\n",
    "    X = pd.DataFrame(X_normalized)\n",
    "    return X"
   ]
  },
  {
   "cell_type": "code",
   "execution_count": 50,
   "metadata": {},
   "outputs": [],
   "source": [
    "Age_map1 = {'Old':1, 'Middle':-1, 'Young':-1} # mapping string to numeric\n",
    "Age_map2 = {'Old':-1, 'Middle':1, 'Young':-1}\n",
    "Age_map3 = {'Old':-1, 'Middle':-1, 'Young':1}\n",
    "Age_map = {'Old':3, 'Middle':2, 'Young':1}  "
   ]
  },
  {
   "cell_type": "code",
   "execution_count": 61,
   "metadata": {},
   "outputs": [],
   "source": [
    "d = pd.read_csv('RM.csv') \n",
    "rng = list(range(0, d.shape[0]))\n",
    "Y = d['Age']\n",
    "d.drop(d.columns[[ 0]], axis=1, inplace=True)\n",
    "d.drop(['Age'], axis=1, inplace=True)\n",
    "X = d.copy()\n",
    "X.insert(loc=len(X.columns), column='intercept', value=1)"
   ]
  },
  {
   "cell_type": "code",
   "execution_count": 52,
   "metadata": {},
   "outputs": [],
   "source": [
    "X_train, X_test, y_train_n, y_test_n = tts(X, rng, test_size=0.2, random_state=42)"
   ]
  },
  {
   "cell_type": "code",
   "execution_count": 53,
   "metadata": {},
   "outputs": [],
   "source": [
    "Y1, y_train1, y_test1 = label_maker(Y,Age_map1,y_train_n, y_test_n)\n",
    "Y2, y_train2, y_test2 = label_maker(Y,Age_map2,y_train_n, y_test_n)\n",
    "Y3, y_train3, y_test3 = label_maker(Y,Age_map3,y_train_n, y_test_n)\n",
    "Y, y_train, y_test = label_maker(Y,Age_map,y_train_n, y_test_n)"
   ]
  },
  {
   "cell_type": "code",
   "execution_count": 15,
   "metadata": {},
   "outputs": [],
   "source": [
    "W1 = sgd(X_train.to_numpy(),y_train1)\n",
    "W2 = sgd(X_train.to_numpy(),y_train2)\n",
    "W3 = sgd(X_train.to_numpy(),y_train3)"
   ]
  },
  {
   "cell_type": "code",
   "execution_count": 16,
   "metadata": {},
   "outputs": [],
   "source": [
    "def multiclass_SVM(W1, W2, W3, X_test):\n",
    "    X_test = X_test.to_numpy()\n",
    "    y_predict = np.array([])\n",
    "    for i in range(X_test.shape[0]):\n",
    "        yp = []\n",
    "        test = X_test[i]\n",
    "        yp.append(np.dot(test.tolist(), W1.tolist()))\n",
    "        yp.append(np.dot(test.tolist(), W2.tolist()))\n",
    "        yp.append(np.dot(test.tolist(), W3.tolist()))\n",
    "        #print(yp)\n",
    "        y_predict = np.append(y_predict,  yp.index(max(yp))+1 ) \n",
    "    return y_predict"
   ]
  },
  {
   "cell_type": "code",
   "execution_count": 17,
   "metadata": {},
   "outputs": [],
   "source": [
    "y_predict = multiclass_SVM(W1, W2, W3, X_test)    \n",
    "conf_matrix = confusion_matrix(y_test, y_predict)"
   ]
  },
  {
   "cell_type": "code",
   "execution_count": 18,
   "metadata": {},
   "outputs": [
    {
     "data": {
      "image/png": "[encoded data removed]",
      "text/plain": [
       "<Figure size 432x288 with 1 Axes>"
      ]
     },
     "metadata": {
      "needs_background": "light"
     },
     "output_type": "display_data"
    }
   ],
   "source": [
    "sns.heatmap(conf_matrix.T, square=True, annot=True, fmt='d', cbar=False)\n",
    "plt.xlabel('true label')\n",
    "plt.ylabel('predicted label');"
   ]
  },
  {
   "cell_type": "code",
   "execution_count": 19,
   "metadata": {},
   "outputs": [
    {
     "name": "stdout",
     "output_type": "stream",
     "text": [
      "X\n",
      "Y\n",
      "done\n",
      "X\n",
      "Y\n",
      "done\n",
      "X\n",
      "Y\n",
      "done\n"
     ]
    }
   ],
   "source": [
    "X1 = d.copy()\n",
    "X2 = d.copy()\n",
    "X3 = d.copy()\n",
    "\n",
    "y1_predict = SVM(X1,Y1) #Old seperator\n",
    "y2_predict = SVM(X2,Y2) #Middle seperator\n",
    "y3_predict = SVM(X3,Y3) #Young seperator\n",
    "\n",
    "y1_predict[np.where(y1_predict == -1)] = 0\n",
    "y2_predict[np.where(y1_predict == -1)] = 0\n",
    "y2_predict[np.where(y1_predict == -1)] = 0\n",
    "\n",
    "y1_predict = y1_predict + 2\n",
    "y2_predict = y2_predict + 1"
   ]
  },
  {
   "cell_type": "code",
   "execution_count": 34,
   "metadata": {},
   "outputs": [],
   "source": [
    "n = y_test.shape[0]\n",
    "predict = np.zeros((n,1))\n",
    "\n",
    "for i in range(n):\n",
    "    if y_test[i] == y1_predict[i]:\n",
    "        predict[i] = 3\n",
    "    elif y_test[i] == y2_predict[i]:\n",
    "        predict[i] = 2\n",
    "    elif y_test[i] == y3_predict[i]:\n",
    "        predict[i] = 1"
   ]
  },
  {
   "cell_type": "code",
   "execution_count": 22,
   "metadata": {},
   "outputs": [
    {
     "data": {
      "text/plain": [
       "Text(91.68, 0.5, 'predicted label')"
      ]
     },
     "execution_count": 22,
     "metadata": {},
     "output_type": "execute_result"
    },
    {
     "data": {
      "image/png": "[encoded data removed]",
      "text/plain": [
       "<Figure size 432x288 with 1 Axes>"
      ]
     },
     "metadata": {
      "needs_background": "light"
     },
     "output_type": "display_data"
    }
   ],
   "source": [
    "plt.figure(2)        \n",
    "cnf_matrix = confusion_matrix(y_test, predict)\n",
    "sns.heatmap(cnf_matrix.T, square=True, annot=True, fmt='d', cbar=False)\n",
    "plt.xlabel('true label')\n",
    "plt.ylabel('predicted label')"
   ]
  },
  {
   "cell_type": "code",
   "execution_count": 24,
   "metadata": {},
   "outputs": [],
   "source": [
    "X_train, X_test, y_train_n, y_test_n = tts(X, Y, test_size=0.2, random_state=42)\n",
    "model = SVC()"
   ]
  },
  {
   "cell_type": "code",
   "execution_count": 25,
   "metadata": {},
   "outputs": [],
   "source": [
    "# define ovo strategy\n",
    "ovr = OneVsRestClassifier(model)\n",
    "# fit model\n",
    "ovr.fit(X_train, y_train)\n",
    "# make predictions\n",
    "y_predict = ovr.predict(X_test)"
   ]
  },
  {
   "cell_type": "code",
   "execution_count": 26,
   "metadata": {},
   "outputs": [
    {
     "data": {
      "text/plain": [
       "Text(91.68, 0.5, 'predicted label')"
      ]
     },
     "execution_count": 26,
     "metadata": {},
     "output_type": "execute_result"
    },
    {
     "data": {
      "image/png": "[encoded data removed]",
      "text/plain": [
       "<Figure size 432x288 with 1 Axes>"
      ]
     },
     "metadata": {
      "needs_background": "light"
     },
     "output_type": "display_data"
    }
   ],
   "source": [
    "mat = confusion_matrix(y_test, y_predict)\n",
    "sns.heatmap(mat.T, square=True, annot=True, fmt='d', cbar=False)\n",
    "plt.xlabel('true label')\n",
    "plt.ylabel('predicted label')"
   ]
  },
  {
   "cell_type": "code",
   "execution_count": 27,
   "metadata": {},
   "outputs": [],
   "source": [
    "clf = SVC(kernel='rbf')\n",
    "clf.fit(X_train, y_train) \n",
    "yfit = clf.predict(X_test)"
   ]
  },
  {
   "cell_type": "code",
   "execution_count": 28,
   "metadata": {},
   "outputs": [
    {
     "data": {
      "text/plain": [
       "Text(91.68, 0.5, 'predicted label')"
      ]
     },
     "execution_count": 28,
     "metadata": {},
     "output_type": "execute_result"
    },
    {
     "data": {
      "image/png": "[encoded data removed]",
      "text/plain": [
       "<Figure size 432x288 with 1 Axes>"
      ]
     },
     "metadata": {
      "needs_background": "light"
     },
     "output_type": "display_data"
    }
   ],
   "source": [
    "mat = confusion_matrix(y_test, yfit)\n",
    "plt.figure(4)\n",
    "sns.heatmap(mat.T, square=True, annot=True, fmt='d', cbar=False)\n",
    "plt.xlabel('true label')\n",
    "plt.ylabel('predicted label')"
   ]
  },
  {
   "cell_type": "code",
   "execution_count": 64,
   "metadata": {},
   "outputs": [],
   "source": [
    "X = normalization(d,Y)\n",
    "X_train, X_test, y_train_n, y_test_n = tts(X, rng, test_size=0.2, random_state=42)\n",
    "\n",
    "\n",
    "Y1, y_train1, y_test1 = label_maker(Y,Age_map1,y_train_n, y_test_n)\n",
    "Y2, y_train2, y_test2 = label_maker(Y,Age_map2,y_train_n, y_test_n)\n",
    "Y3, y_train3, y_test3 = label_maker(Y,Age_map3,y_train_n, y_test_n)\n",
    "Y, y_train, y_test = label_maker(Y,Age_map,y_train_n, y_test_n)\n",
    "\n",
    "\n",
    "W1 = sgd(X_train.to_numpy(),y_train1)\n",
    "W2 = sgd(X_train.to_numpy(),y_train2)\n",
    "W3 = sgd(X_train.to_numpy(),y_train3)"
   ]
  },
  {
   "cell_type": "code",
   "execution_count": null,
   "metadata": {},
   "outputs": [],
   "source": [
    "y_predict = multiclass_SVM(W1, W2, W3, X_test)    "
   ]
  },
  {
   "cell_type": "code",
   "execution_count": 65,
   "metadata": {},
   "outputs": [],
   "source": [
    "conf_matrix = confusion_matrix(y_test, y_predict)"
   ]
  },
  {
   "cell_type": "code",
   "execution_count": 66,
   "metadata": {},
   "outputs": [
    {
     "data": {
      "text/plain": [
       "Text(91.68, 0.5, 'predicted label')"
      ]
     },
     "execution_count": 66,
     "metadata": {},
     "output_type": "execute_result"
    },
    {
     "data": {
      "image/png": "[encoded data removed]",
      "text/plain": [
       "<Figure size 432x288 with 1 Axes>"
      ]
     },
     "metadata": {
      "needs_background": "light"
     },
     "output_type": "display_data"
    }
   ],
   "source": [
    "sns.heatmap(conf_matrix.T, square=True, annot=True, fmt='d', cbar=False)\n",
    "plt.xlabel('true label')\n",
    "plt.ylabel('predicted label')"
   ]
  },
  {
   "cell_type": "code",
   "execution_count": 67,
   "metadata": {},
   "outputs": [
    {
     "name": "stdout",
     "output_type": "stream",
     "text": [
      "X\n",
      "Y\n",
      "done\n",
      "X\n",
      "Y\n",
      "done\n",
      "X\n",
      "Y\n",
      "done\n"
     ]
    }
   ],
   "source": [
    "X1 = normalization(X,Y1)\n",
    "X2 = normalization(X,Y2)\n",
    "X3 = normalization(X,Y3)\n",
    "\n",
    "y1_predict = SVM(X1,Y1) #Old seperator\n",
    "y2_predict = SVM(X2,Y2) #Middle seperator\n",
    "y3_predict = SVM(X3,Y3) #Young seperator\n",
    "\n",
    "y1_predict[np.where(y1_predict == -1)] = 0\n",
    "y2_predict[np.where(y1_predict == -1)] = 0\n",
    "y2_predict[np.where(y1_predict == -1)] = 0\n",
    "\n",
    "y1_predict = y1_predict + 2\n",
    "y2_predict = y2_predict + 1"
   ]
  },
  {
   "cell_type": "code",
   "execution_count": 68,
   "metadata": {},
   "outputs": [],
   "source": [
    "n = y_test.shape[0]\n",
    "predict = np.zeros((n,1))\n",
    "\n",
    "for i in range(n):\n",
    "    if y_test[i] == y1_predict[i]:\n",
    "        predict[i] = 3\n",
    "    elif y_test[i] == y2_predict[i]:\n",
    "        predict[i] = 2\n",
    "    elif y_test[i] == y3_predict[i]:\n",
    "        predict[i] = 1"
   ]
  },
  {
   "cell_type": "code",
   "execution_count": 69,
   "metadata": {},
   "outputs": [
    {
     "data": {
      "image/png": "[encoded data removed]",
      "text/plain": [
       "<Figure size 432x288 with 1 Axes>"
      ]
     },
     "metadata": {
      "needs_background": "light"
     },
     "output_type": "display_data"
    }
   ],
   "source": [
    "cnf_matrix = confusion_matrix(y_test, predict)\n",
    "sns.heatmap(cnf_matrix.T, square=True, annot=True, fmt='d', cbar=False)\n",
    "plt.xlabel('true label')\n",
    "plt.ylabel('predicted label'); "
   ]
  },
  {
   "cell_type": "code",
   "execution_count": 70,
   "metadata": {},
   "outputs": [],
   "source": [
    "X_train, X_test, y_train_n, y_test_n = tts(X, Y, test_size=0.2, random_state=42)\n",
    "model = SVC()\n",
    "# define ovo strategy\n",
    "ovr = OneVsRestClassifier(model)\n",
    "# fit model\n",
    "ovr.fit(X_train, y_train)\n",
    "# make predictions\n",
    "y_predict = ovr.predict(X_test)"
   ]
  },
  {
   "cell_type": "code",
   "execution_count": 71,
   "metadata": {},
   "outputs": [
    {
     "data": {
      "text/plain": [
       "Text(91.68, 0.5, 'predicted label')"
      ]
     },
     "execution_count": 71,
     "metadata": {},
     "output_type": "execute_result"
    },
    {
     "data": {
      "image/png": "[encoded data removed]",
      "text/plain": [
       "<Figure size 432x288 with 1 Axes>"
      ]
     },
     "metadata": {
      "needs_background": "light"
     },
     "output_type": "display_data"
    }
   ],
   "source": [
    "mat = confusion_matrix(y_test, y_predict)\n",
    "sns.heatmap(mat.T, square=True, annot=True, fmt='d', cbar=False)\n",
    "plt.xlabel('true label')\n",
    "plt.ylabel('predicted label')"
   ]
  },
  {
   "cell_type": "code",
   "execution_count": 72,
   "metadata": {},
   "outputs": [],
   "source": [
    "clf = SVC(kernel='rbf')\n",
    "clf.fit(X_train, y_train) \n",
    "yfit = clf.predict(X_test)   "
   ]
  },
  {
   "cell_type": "code",
   "execution_count": 73,
   "metadata": {},
   "outputs": [
    {
     "data": {
      "image/png": "[encoded data removed]",
      "text/plain": [
       "<Figure size 432x288 with 1 Axes>"
      ]
     },
     "metadata": {
      "needs_background": "light"
     },
     "output_type": "display_data"
    }
   ],
   "source": [
    "mat = confusion_matrix(y_test, yfit)\n",
    "plt.figure(4)\n",
    "sns.heatmap(mat.T, square=True, annot=True, fmt='d', cbar=False)\n",
    "plt.xlabel('true label')\n",
    "plt.ylabel('predicted label');\n"
   ]
  },
  {
   "cell_type": "code",
   "execution_count": null,
   "metadata": {},
   "outputs": [],
   "source": []
  }
 ],
 "metadata": {
  "kernelspec": {
   "display_name": "Python 3",
   "language": "python",
   "name": "python3"
  },
  "language_info": {
   "codemirror_mode": {
    "name": "ipython",
    "version": 3
   },
   "file_extension": ".py",
   "mimetype": "text/x-python",
   "name": "python",
   "nbconvert_exporter": "python",
   "pygments_lexer": "ipython3",
   "version": "3.7.6"
  }
 },
 "nbformat": 4,
 "nbformat_minor": 4
}
