{
 "cells": [
  {
   "cell_type": "code",
   "execution_count": 376,
   "metadata": {},
   "outputs": [],
   "source": [
    "\n",
    "import IPython.display as ipd\n",
    "# % pylab inline\n",
    "import os\n",
    "import pandas as pd\n",
    "import librosa\n",
    "import glob \n",
    "import librosa.display\n",
    "import random\n",
    "\n",
    "from sklearn.preprocessing import StandardScaler\n",
    "from sklearn.model_selection import train_test_split\n",
    "\n",
    "from keras.utils.np_utils import to_categorical\n",
    "\n",
    "import numpy as np\n",
    "from keras.models import Sequential\n",
    "from keras.layers import Dense, Dropout, Activation, Flatten\n",
    "\n",
    "\n",
    "from sklearn.datasets import make_regression\n",
    "from sklearn.preprocessing import StandardScaler\n",
    "from sklearn import metrics\n",
    "from sklearn.model_selection import train_test_split, GridSearchCV\n",
    "\n",
    "from tensorflow.keras.models import Sequential\n",
    "from tensorflow.keras.layers import Dense, Dropout \n",
    "from tensorflow.keras.wrappers.scikit_learn import KerasRegressor\n",
    "\n",
    "from keras.callbacks import EarlyStopping\n",
    "\n",
    "from keras import regularizers\n",
    "\n",
    "from sklearn.preprocessing import LabelEncoder\n",
    "\n",
    "from datetime import datetime\n",
    "\n",
    "import os"
   ]
  },
  {
   "cell_type": "code",
   "execution_count": 377,
   "metadata": {},
   "outputs": [],
   "source": [
    "# importing data\n",
    "a1 = np.load('D:/Uni/this term/Pattern Recognition/CA/features_label2_4.npy', allow_pickle = True)\n",
    "a2 = np.load('D:/Uni/this term/Pattern Recognition/CA/features_label5_7.npy', allow_pickle = True)\n",
    "a3 = np.load('D:/Uni/this term/Pattern Recognition/CA/features_label10.npy', allow_pickle = True)\n",
    "a4 = np.load('D:/Uni/this term/Pattern Recognition/CA/features_label11_13.npy', allow_pickle = True)\n",
    "a5 = np.load('D:/Uni/this term/Pattern Recognition/CA/features_label14_17.npy', allow_pickle = True)"
   ]
  },
  {
   "cell_type": "code",
   "execution_count": 378,
   "metadata": {},
   "outputs": [
    {
     "data": {
      "text/plain": [
       "(1989,)"
      ]
     },
     "execution_count": 378,
     "metadata": {},
     "output_type": "execute_result"
    }
   ],
   "source": [
    "a = np.concatenate((a1,a2,a3,a4,a5),axis=0)\n",
    "a.shape"
   ]
  },
  {
   "cell_type": "code",
   "execution_count": 379,
   "metadata": {},
   "outputs": [],
   "source": [
    "#shuffling\n",
    "import random\n",
    "random.shuffle(a)"
   ]
  },
  {
   "cell_type": "code",
   "execution_count": 380,
   "metadata": {},
   "outputs": [],
   "source": [
    "features_label = [ele for ele in a if ele != []] "
   ]
  },
  {
   "cell_type": "code",
   "execution_count": 381,
   "metadata": {},
   "outputs": [],
   "source": [
    "features = []\n",
    "for i in range(0, len(features_label)):\n",
    "    features.append(np.concatenate((features_label[i][0], features_label[i][1], \n",
    "                features_label[i][2], features_label[i][3],\n",
    "                features_label[i][4]), axis=0))"
   ]
  },
  {
   "cell_type": "code",
   "execution_count": 382,
   "metadata": {},
   "outputs": [
    {
     "data": {
      "text/plain": [
       "(1983, 193)"
      ]
     },
     "execution_count": 382,
     "metadata": {},
     "output_type": "execute_result"
    }
   ],
   "source": [
    "np.shape(features)"
   ]
  },
  {
   "cell_type": "code",
   "execution_count": 383,
   "metadata": {},
   "outputs": [],
   "source": [
    "labels = []\n",
    "for i in range(0, len(features_label)):\n",
    "    labels.append(features_label[i][5])"
   ]
  },
  {
   "cell_type": "code",
   "execution_count": 384,
   "metadata": {},
   "outputs": [
    {
     "data": {
      "text/plain": [
       "1983"
      ]
     },
     "execution_count": 384,
     "metadata": {},
     "output_type": "execute_result"
    }
   ],
   "source": [
    "len(labels)"
   ]
  },
  {
   "cell_type": "code",
   "execution_count": 385,
   "metadata": {},
   "outputs": [],
   "source": [
    "X = np.array(features)"
   ]
  },
  {
   "cell_type": "code",
   "execution_count": 386,
   "metadata": {},
   "outputs": [],
   "source": [
    "y = np.array(labels)"
   ]
  },
  {
   "cell_type": "code",
   "execution_count": 387,
   "metadata": {},
   "outputs": [],
   "source": [
    "lb = LabelEncoder()\n",
    "y = to_categorical(lb.fit_transform(y))"
   ]
  },
  {
   "cell_type": "code",
   "execution_count": 388,
   "metadata": {},
   "outputs": [
    {
     "data": {
      "text/plain": [
       "(1983, 193)"
      ]
     },
     "execution_count": 388,
     "metadata": {},
     "output_type": "execute_result"
    }
   ],
   "source": [
    "X.shape"
   ]
  },
  {
   "cell_type": "code",
   "execution_count": 389,
   "metadata": {},
   "outputs": [
    {
     "data": {
      "text/plain": [
       "(1983, 2)"
      ]
     },
     "execution_count": 389,
     "metadata": {},
     "output_type": "execute_result"
    }
   ],
   "source": [
    "y.shape\n"
   ]
  },
  {
   "cell_type": "code",
   "execution_count": 390,
   "metadata": {},
   "outputs": [],
   "source": [
    "X_train = X[:1389]\n",
    "y_train = y[:1389]\n",
    "\n",
    "X_val = X[1389:1786]\n",
    "y_val = y[1389:1786]\n",
    "\n",
    "X_test = X[1786:]\n",
    "y_test = y[1786:]"
   ]
  },
  {
   "cell_type": "code",
   "execution_count": 391,
   "metadata": {},
   "outputs": [],
   "source": [
    "from sklearn.preprocessing import StandardScaler\n",
    "ss = StandardScaler()\n",
    "X_train = ss.fit_transform(X_train)\n",
    "X_val = ss.transform(X_val)\n",
    "X_test = ss.transform(X_test)"
   ]
  },
  {
   "cell_type": "code",
   "execution_count": 392,
   "metadata": {},
   "outputs": [],
   "source": [
    "from tensorflow.keras.models import Sequential\n",
    "from tensorflow.keras.layers import Dense, Dropout \n",
    "from tensorflow.keras.wrappers.scikit_learn import KerasRegressor\n",
    "from keras.callbacks import EarlyStopping\n",
    "\n",
    "\n",
    "model = Sequential()\n",
    "\n",
    "model.add(Dense(193, input_shape=(193,), activation = 'relu'))\n",
    "model.add(Dropout(0.1))\n",
    "\n",
    "model.add(Dense(128, activation = 'relu'))\n",
    "model.add(Dropout(0.25))  \n",
    "\n",
    "model.add(Dense(128, activation = 'relu'))\n",
    "model.add(Dropout(0.5))    \n",
    "\n",
    "model.add(Dense(2, activation = 'softmax'))\n",
    "\n",
    "model.compile(loss='categorical_crossentropy', metrics=['accuracy'], optimizer='adam')\n",
    "\n",
    "early_stop = EarlyStopping(monitor='val_loss', min_delta=0, patience=100, verbose=1, mode='auto')"
   ]
  },
  {
   "cell_type": "code",
   "execution_count": 393,
   "metadata": {},
   "outputs": [
    {
     "name": "stdout",
     "output_type": "stream",
     "text": [
      "Epoch 1/100\n",
      "6/6 [==============================] - 0s 33ms/step - loss: 0.6650 - accuracy: 0.6580 - val_loss: 0.3716 - val_accuracy: 0.9068\n",
      "Epoch 2/100\n",
      "6/6 [==============================] - 0s 13ms/step - loss: 0.3599 - accuracy: 0.8798 - val_loss: 0.2130 - val_accuracy: 0.9295\n",
      "Epoch 3/100\n",
      "6/6 [==============================] - 0s 15ms/step - loss: 0.2454 - accuracy: 0.9172 - val_loss: 0.1805 - val_accuracy: 0.9471\n",
      "Epoch 4/100\n",
      "6/6 [==============================] - 0s 13ms/step - loss: 0.2193 - accuracy: 0.9374 - val_loss: 0.1636 - val_accuracy: 0.9471\n",
      "Epoch 5/100\n",
      "6/6 [==============================] - 0s 14ms/step - loss: 0.1821 - accuracy: 0.9460 - val_loss: 0.1360 - val_accuracy: 0.9496\n",
      "Epoch 6/100\n",
      "6/6 [==============================] - 0s 14ms/step - loss: 0.1513 - accuracy: 0.9489 - val_loss: 0.1210 - val_accuracy: 0.9521\n",
      "Epoch 7/100\n",
      "6/6 [==============================] - 0s 19ms/step - loss: 0.1215 - accuracy: 0.9611 - val_loss: 0.1075 - val_accuracy: 0.9547\n",
      "Epoch 8/100\n",
      "6/6 [==============================] - 0s 15ms/step - loss: 0.1076 - accuracy: 0.9626 - val_loss: 0.0939 - val_accuracy: 0.9597\n",
      "Epoch 9/100\n",
      "6/6 [==============================] - 0s 14ms/step - loss: 0.0898 - accuracy: 0.9734 - val_loss: 0.0813 - val_accuracy: 0.9673\n",
      "Epoch 10/100\n",
      "6/6 [==============================] - 0s 14ms/step - loss: 0.0808 - accuracy: 0.9712 - val_loss: 0.0705 - val_accuracy: 0.9723\n",
      "Epoch 11/100\n",
      "6/6 [==============================] - 0s 17ms/step - loss: 0.0701 - accuracy: 0.9741 - val_loss: 0.0601 - val_accuracy: 0.9798\n",
      "Epoch 12/100\n",
      "6/6 [==============================] - 0s 13ms/step - loss: 0.0597 - accuracy: 0.9791 - val_loss: 0.0503 - val_accuracy: 0.9824\n",
      "Epoch 13/100\n",
      "6/6 [==============================] - 0s 15ms/step - loss: 0.0531 - accuracy: 0.9827 - val_loss: 0.0466 - val_accuracy: 0.9824\n",
      "Epoch 14/100\n",
      "6/6 [==============================] - 0s 12ms/step - loss: 0.0362 - accuracy: 0.9885 - val_loss: 0.0433 - val_accuracy: 0.9824\n",
      "Epoch 15/100\n",
      "6/6 [==============================] - 0s 13ms/step - loss: 0.0297 - accuracy: 0.9899 - val_loss: 0.0370 - val_accuracy: 0.9824\n",
      "Epoch 16/100\n",
      "6/6 [==============================] - 0s 19ms/step - loss: 0.0236 - accuracy: 0.9928 - val_loss: 0.0313 - val_accuracy: 0.9874\n",
      "Epoch 17/100\n",
      "6/6 [==============================] - 0s 15ms/step - loss: 0.0224 - accuracy: 0.9950 - val_loss: 0.0263 - val_accuracy: 0.9924\n",
      "Epoch 18/100\n",
      "6/6 [==============================] - 0s 17ms/step - loss: 0.0189 - accuracy: 0.9964 - val_loss: 0.0254 - val_accuracy: 0.9950\n",
      "Epoch 19/100\n",
      "6/6 [==============================] - 0s 16ms/step - loss: 0.0148 - accuracy: 0.9950 - val_loss: 0.0206 - val_accuracy: 0.9975\n",
      "Epoch 20/100\n",
      "6/6 [==============================] - 0s 15ms/step - loss: 0.0117 - accuracy: 0.9986 - val_loss: 0.0135 - val_accuracy: 0.9975\n",
      "Epoch 21/100\n",
      "6/6 [==============================] - 0s 17ms/step - loss: 0.0120 - accuracy: 0.9971 - val_loss: 0.0104 - val_accuracy: 0.9975\n",
      "Epoch 22/100\n",
      "6/6 [==============================] - 0s 17ms/step - loss: 0.0074 - accuracy: 0.9993 - val_loss: 0.0119 - val_accuracy: 0.9950\n",
      "Epoch 23/100\n",
      "6/6 [==============================] - 0s 16ms/step - loss: 0.0081 - accuracy: 0.9993 - val_loss: 0.0136 - val_accuracy: 0.9975\n",
      "Epoch 24/100\n",
      "6/6 [==============================] - 0s 16ms/step - loss: 0.0060 - accuracy: 1.0000 - val_loss: 0.0131 - val_accuracy: 0.9975\n",
      "Epoch 25/100\n",
      "6/6 [==============================] - 0s 16ms/step - loss: 0.0063 - accuracy: 0.9978 - val_loss: 0.0113 - val_accuracy: 0.9975\n",
      "Epoch 26/100\n",
      "6/6 [==============================] - 0s 16ms/step - loss: 0.0051 - accuracy: 0.9986 - val_loss: 0.0103 - val_accuracy: 0.9975\n",
      "Epoch 27/100\n",
      "6/6 [==============================] - 0s 17ms/step - loss: 0.0044 - accuracy: 0.9993 - val_loss: 0.0148 - val_accuracy: 0.9950\n",
      "Epoch 28/100\n",
      "6/6 [==============================] - 0s 15ms/step - loss: 0.0176 - accuracy: 0.9957 - val_loss: 0.0108 - val_accuracy: 0.9950\n",
      "Epoch 29/100\n",
      "6/6 [==============================] - 0s 16ms/step - loss: 0.0049 - accuracy: 0.9986 - val_loss: 0.0110 - val_accuracy: 0.9950\n",
      "Epoch 30/100\n",
      "6/6 [==============================] - 0s 16ms/step - loss: 0.0082 - accuracy: 0.9986 - val_loss: 0.0111 - val_accuracy: 0.9950\n",
      "Epoch 31/100\n",
      "6/6 [==============================] - 0s 16ms/step - loss: 0.0043 - accuracy: 0.9986 - val_loss: 0.0120 - val_accuracy: 0.9950\n",
      "Epoch 32/100\n",
      "6/6 [==============================] - 0s 16ms/step - loss: 0.0045 - accuracy: 0.9993 - val_loss: 0.0107 - val_accuracy: 0.9950\n",
      "Epoch 33/100\n",
      "6/6 [==============================] - 0s 15ms/step - loss: 0.0059 - accuracy: 0.9986 - val_loss: 0.0108 - val_accuracy: 0.9924\n",
      "Epoch 34/100\n",
      "6/6 [==============================] - 0s 13ms/step - loss: 0.0028 - accuracy: 1.0000 - val_loss: 0.0103 - val_accuracy: 0.9924\n",
      "Epoch 35/100\n",
      "6/6 [==============================] - 0s 13ms/step - loss: 0.0042 - accuracy: 0.9993 - val_loss: 0.0063 - val_accuracy: 0.9950\n",
      "Epoch 36/100\n",
      "6/6 [==============================] - 0s 16ms/step - loss: 0.0027 - accuracy: 0.9993 - val_loss: 0.0033 - val_accuracy: 1.0000\n",
      "Epoch 37/100\n",
      "6/6 [==============================] - 0s 18ms/step - loss: 0.0043 - accuracy: 0.9986 - val_loss: 0.0044 - val_accuracy: 0.9975\n",
      "Epoch 38/100\n",
      "6/6 [==============================] - 0s 15ms/step - loss: 0.0014 - accuracy: 1.0000 - val_loss: 0.0116 - val_accuracy: 0.9950\n",
      "Epoch 39/100\n",
      "6/6 [==============================] - 0s 18ms/step - loss: 0.0111 - accuracy: 0.9986 - val_loss: 0.0128 - val_accuracy: 0.9950\n",
      "Epoch 40/100\n",
      "6/6 [==============================] - 0s 13ms/step - loss: 0.0018 - accuracy: 1.0000 - val_loss: 0.0145 - val_accuracy: 0.9950\n",
      "Epoch 41/100\n",
      "6/6 [==============================] - 0s 14ms/step - loss: 0.0023 - accuracy: 1.0000 - val_loss: 0.0142 - val_accuracy: 0.9899\n",
      "Epoch 42/100\n",
      "6/6 [==============================] - 0s 12ms/step - loss: 0.0108 - accuracy: 0.9993 - val_loss: 0.0133 - val_accuracy: 0.9950\n",
      "Epoch 43/100\n",
      "6/6 [==============================] - 0s 14ms/step - loss: 0.0025 - accuracy: 0.9993 - val_loss: 0.0207 - val_accuracy: 0.9950\n",
      "Epoch 44/100\n",
      "6/6 [==============================] - 0s 13ms/step - loss: 0.0040 - accuracy: 0.9978 - val_loss: 0.0212 - val_accuracy: 0.9924\n",
      "Epoch 45/100\n",
      "6/6 [==============================] - 0s 14ms/step - loss: 0.0029 - accuracy: 0.9993 - val_loss: 0.0162 - val_accuracy: 0.9899\n",
      "Epoch 46/100\n",
      "6/6 [==============================] - 0s 15ms/step - loss: 0.0021 - accuracy: 1.0000 - val_loss: 0.0155 - val_accuracy: 0.9924\n",
      "Epoch 47/100\n",
      "6/6 [==============================] - 0s 14ms/step - loss: 0.0015 - accuracy: 0.9993 - val_loss: 0.0149 - val_accuracy: 0.9950\n",
      "Epoch 48/100\n",
      "6/6 [==============================] - 0s 14ms/step - loss: 0.0011 - accuracy: 1.0000 - val_loss: 0.0163 - val_accuracy: 0.9950\n",
      "Epoch 49/100\n",
      "6/6 [==============================] - 0s 16ms/step - loss: 0.0014 - accuracy: 1.0000 - val_loss: 0.0173 - val_accuracy: 0.9950\n",
      "Epoch 50/100\n",
      "6/6 [==============================] - 0s 14ms/step - loss: 7.3291e-04 - accuracy: 1.0000 - val_loss: 0.0195 - val_accuracy: 0.9950\n",
      "Epoch 51/100\n",
      "6/6 [==============================] - 0s 16ms/step - loss: 9.1363e-04 - accuracy: 1.0000 - val_loss: 0.0166 - val_accuracy: 0.9950\n",
      "Epoch 52/100\n",
      "6/6 [==============================] - 0s 16ms/step - loss: 0.0018 - accuracy: 1.0000 - val_loss: 0.0135 - val_accuracy: 0.9950\n",
      "Epoch 53/100\n",
      "6/6 [==============================] - 0s 12ms/step - loss: 0.0035 - accuracy: 0.9993 - val_loss: 0.0144 - val_accuracy: 0.9950\n",
      "Epoch 54/100\n",
      "6/6 [==============================] - 0s 15ms/step - loss: 5.9574e-04 - accuracy: 1.0000 - val_loss: 0.0185 - val_accuracy: 0.9975\n",
      "Epoch 55/100\n",
      "6/6 [==============================] - 0s 17ms/step - loss: 8.0711e-04 - accuracy: 1.0000 - val_loss: 0.0220 - val_accuracy: 0.9924\n",
      "Epoch 56/100\n",
      "6/6 [==============================] - 0s 15ms/step - loss: 0.0021 - accuracy: 0.9993 - val_loss: 0.0085 - val_accuracy: 0.9950\n",
      "Epoch 57/100\n",
      "6/6 [==============================] - 0s 14ms/step - loss: 7.9507e-04 - accuracy: 1.0000 - val_loss: 0.0067 - val_accuracy: 0.9975\n",
      "Epoch 58/100\n",
      "6/6 [==============================] - 0s 17ms/step - loss: 5.6559e-04 - accuracy: 1.0000 - val_loss: 0.0066 - val_accuracy: 0.9975\n",
      "Epoch 59/100\n",
      "6/6 [==============================] - 0s 22ms/step - loss: 9.0185e-04 - accuracy: 1.0000 - val_loss: 0.0076 - val_accuracy: 0.9950\n",
      "Epoch 60/100\n",
      "6/6 [==============================] - 0s 14ms/step - loss: 9.1367e-04 - accuracy: 1.0000 - val_loss: 0.0129 - val_accuracy: 0.9975\n",
      "Epoch 61/100\n",
      "6/6 [==============================] - 0s 13ms/step - loss: 6.6836e-04 - accuracy: 1.0000 - val_loss: 0.0173 - val_accuracy: 0.9975\n",
      "Epoch 62/100\n",
      "6/6 [==============================] - 0s 13ms/step - loss: 8.0939e-04 - accuracy: 1.0000 - val_loss: 0.0182 - val_accuracy: 0.9950\n",
      "Epoch 63/100\n",
      "6/6 [==============================] - 0s 18ms/step - loss: 4.2834e-04 - accuracy: 1.0000 - val_loss: 0.0188 - val_accuracy: 0.9950\n",
      "Epoch 64/100\n",
      "6/6 [==============================] - 0s 13ms/step - loss: 7.3064e-04 - accuracy: 1.0000 - val_loss: 0.0173 - val_accuracy: 0.9950\n",
      "Epoch 65/100\n",
      "6/6 [==============================] - 0s 12ms/step - loss: 3.3749e-04 - accuracy: 1.0000 - val_loss: 0.0145 - val_accuracy: 0.9950\n",
      "Epoch 66/100\n",
      "6/6 [==============================] - 0s 14ms/step - loss: 4.6501e-04 - accuracy: 1.0000 - val_loss: 0.0122 - val_accuracy: 0.9950\n",
      "Epoch 67/100\n",
      "6/6 [==============================] - 0s 14ms/step - loss: 3.9472e-04 - accuracy: 1.0000 - val_loss: 0.0107 - val_accuracy: 0.9950\n",
      "Epoch 68/100\n",
      "6/6 [==============================] - 0s 14ms/step - loss: 3.6949e-04 - accuracy: 1.0000 - val_loss: 0.0100 - val_accuracy: 0.9975\n",
      "Epoch 69/100\n",
      "6/6 [==============================] - 0s 15ms/step - loss: 2.8694e-04 - accuracy: 1.0000 - val_loss: 0.0105 - val_accuracy: 0.9975\n",
      "Epoch 70/100\n",
      "6/6 [==============================] - 0s 13ms/step - loss: 3.0454e-04 - accuracy: 1.0000 - val_loss: 0.0098 - val_accuracy: 0.9975\n",
      "Epoch 71/100\n",
      "6/6 [==============================] - 0s 13ms/step - loss: 4.9640e-04 - accuracy: 1.0000 - val_loss: 0.0094 - val_accuracy: 0.9975\n",
      "Epoch 72/100\n",
      "6/6 [==============================] - 0s 12ms/step - loss: 3.7100e-04 - accuracy: 1.0000 - val_loss: 0.0096 - val_accuracy: 0.9975\n",
      "Epoch 73/100\n",
      "6/6 [==============================] - 0s 18ms/step - loss: 1.5751e-04 - accuracy: 1.0000 - val_loss: 0.0096 - val_accuracy: 0.9975\n",
      "Epoch 74/100\n",
      "6/6 [==============================] - 0s 14ms/step - loss: 2.2101e-04 - accuracy: 1.0000 - val_loss: 0.0092 - val_accuracy: 0.9950\n",
      "Epoch 75/100\n",
      "6/6 [==============================] - 0s 14ms/step - loss: 0.0019 - accuracy: 0.9993 - val_loss: 0.0083 - val_accuracy: 0.9975\n",
      "Epoch 76/100\n",
      "6/6 [==============================] - 0s 15ms/step - loss: 4.4941e-04 - accuracy: 1.0000 - val_loss: 0.0097 - val_accuracy: 0.9950\n",
      "Epoch 77/100\n",
      "6/6 [==============================] - 0s 16ms/step - loss: 1.3537e-04 - accuracy: 1.0000 - val_loss: 0.0111 - val_accuracy: 0.9950\n",
      "Epoch 78/100\n",
      "6/6 [==============================] - 0s 13ms/step - loss: 0.0018 - accuracy: 0.9993 - val_loss: 0.0165 - val_accuracy: 0.9924\n",
      "Epoch 79/100\n",
      "6/6 [==============================] - 0s 13ms/step - loss: 0.0011 - accuracy: 0.9993 - val_loss: 0.0490 - val_accuracy: 0.9874\n",
      "Epoch 80/100\n",
      "6/6 [==============================] - 0s 12ms/step - loss: 0.0044 - accuracy: 0.9978 - val_loss: 0.0258 - val_accuracy: 0.9950\n",
      "Epoch 81/100\n",
      "6/6 [==============================] - 0s 12ms/step - loss: 0.0012 - accuracy: 1.0000 - val_loss: 0.0216 - val_accuracy: 0.9950\n",
      "Epoch 82/100\n",
      "6/6 [==============================] - 0s 13ms/step - loss: 0.0015 - accuracy: 0.9993 - val_loss: 0.0224 - val_accuracy: 0.9950\n",
      "Epoch 83/100\n",
      "6/6 [==============================] - 0s 32ms/step - loss: 5.4545e-04 - accuracy: 1.0000 - val_loss: 0.0225 - val_accuracy: 0.9950\n",
      "Epoch 84/100\n",
      "6/6 [==============================] - 0s 12ms/step - loss: 6.2831e-04 - accuracy: 1.0000 - val_loss: 0.0194 - val_accuracy: 0.9950\n",
      "Epoch 85/100\n",
      "6/6 [==============================] - 0s 12ms/step - loss: 3.7049e-04 - accuracy: 1.0000 - val_loss: 0.0185 - val_accuracy: 0.9950\n",
      "Epoch 86/100\n",
      "6/6 [==============================] - 0s 17ms/step - loss: 3.4919e-04 - accuracy: 1.0000 - val_loss: 0.0183 - val_accuracy: 0.9950\n",
      "Epoch 87/100\n",
      "6/6 [==============================] - 0s 15ms/step - loss: 2.0095e-04 - accuracy: 1.0000 - val_loss: 0.0179 - val_accuracy: 0.9950\n",
      "Epoch 88/100\n",
      "6/6 [==============================] - 0s 13ms/step - loss: 0.0020 - accuracy: 0.9986 - val_loss: 0.0212 - val_accuracy: 0.9950\n",
      "Epoch 89/100\n",
      "6/6 [==============================] - 0s 19ms/step - loss: 7.2172e-04 - accuracy: 1.0000 - val_loss: 0.0215 - val_accuracy: 0.9950\n",
      "Epoch 90/100\n",
      "6/6 [==============================] - 0s 13ms/step - loss: 3.4413e-04 - accuracy: 1.0000 - val_loss: 0.0194 - val_accuracy: 0.9950\n",
      "Epoch 91/100\n",
      "6/6 [==============================] - 0s 16ms/step - loss: 0.0027 - accuracy: 0.9993 - val_loss: 0.0225 - val_accuracy: 0.9950\n",
      "Epoch 92/100\n",
      "6/6 [==============================] - 0s 13ms/step - loss: 6.6751e-04 - accuracy: 1.0000 - val_loss: 0.0247 - val_accuracy: 0.9924\n",
      "Epoch 93/100\n",
      "6/6 [==============================] - 0s 15ms/step - loss: 7.6026e-04 - accuracy: 1.0000 - val_loss: 0.0202 - val_accuracy: 0.9924\n",
      "Epoch 94/100\n",
      "6/6 [==============================] - 0s 12ms/step - loss: 6.2183e-04 - accuracy: 1.0000 - val_loss: 0.0198 - val_accuracy: 0.9924\n",
      "Epoch 95/100\n",
      "6/6 [==============================] - 0s 13ms/step - loss: 0.0015 - accuracy: 0.9993 - val_loss: 0.0205 - val_accuracy: 0.9924\n",
      "Epoch 96/100\n",
      "6/6 [==============================] - 0s 16ms/step - loss: 7.3348e-04 - accuracy: 1.0000 - val_loss: 0.0188 - val_accuracy: 0.9924\n",
      "Epoch 97/100\n",
      "6/6 [==============================] - 0s 12ms/step - loss: 0.0014 - accuracy: 0.9993 - val_loss: 0.0193 - val_accuracy: 0.9924\n",
      "Epoch 98/100\n",
      "6/6 [==============================] - 0s 15ms/step - loss: 3.4006e-04 - accuracy: 1.0000 - val_loss: 0.0205 - val_accuracy: 0.9924\n",
      "Epoch 99/100\n",
      "6/6 [==============================] - 0s 18ms/step - loss: 4.3358e-04 - accuracy: 1.0000 - val_loss: 0.0215 - val_accuracy: 0.9924\n",
      "Epoch 100/100\n",
      "6/6 [==============================] - 0s 12ms/step - loss: 2.4500e-04 - accuracy: 1.0000 - val_loss: 0.0218 - val_accuracy: 0.9924\n"
     ]
    }
   ],
   "source": [
    "# fitting the model with the train data and validation with the validation data\n",
    "# we used early stop with patience 15\n",
    "history = model.fit(X_train, y_train, batch_size=256, epochs=100, validation_data=(X_val, y_val),)# Checking how our model looks like and how many parameters it has"
   ]
  },
  {
   "cell_type": "code",
   "execution_count": 394,
   "metadata": {},
   "outputs": [
    {
     "name": "stdout",
     "output_type": "stream",
     "text": [
      "Model: \"sequential_4\"\n",
      "_________________________________________________________________\n",
      "Layer (type)                 Output Shape              Param #   \n",
      "=================================================================\n",
      "dense_16 (Dense)             (None, 193)               37442     \n",
      "_________________________________________________________________\n",
      "dropout_12 (Dropout)         (None, 193)               0         \n",
      "_________________________________________________________________\n",
      "dense_17 (Dense)             (None, 128)               24832     \n",
      "_________________________________________________________________\n",
      "dropout_13 (Dropout)         (None, 128)               0         \n",
      "_________________________________________________________________\n",
      "dense_18 (Dense)             (None, 128)               16512     \n",
      "_________________________________________________________________\n",
      "dropout_14 (Dropout)         (None, 128)               0         \n",
      "_________________________________________________________________\n",
      "dense_19 (Dense)             (None, 2)                 258       \n",
      "=================================================================\n",
      "Total params: 79,044\n",
      "Trainable params: 79,044\n",
      "Non-trainable params: 0\n",
      "_________________________________________________________________\n"
     ]
    }
   ],
   "source": [
    "# Checking how our model looks like and how many parameters it has\n",
    "model.summary()"
   ]
  },
  {
   "cell_type": "code",
   "execution_count": 395,
   "metadata": {},
   "outputs": [
    {
     "data": {
      "image/png": "[encoded data removed]",
      "text/plain": [
       "<Figure size 864x576 with 1 Axes>"
      ]
     },
     "metadata": {
      "needs_background": "light"
     },
     "output_type": "display_data"
    }
   ],
   "source": [
    "import matplotlib.pyplot as plt\n",
    "\n",
    "# Check out our train accuracy and validation accuracy over epochs.\n",
    "train_accuracy = history.history['accuracy']\n",
    "val_accuracy = history.history['val_accuracy']\n",
    "\n",
    "# Set figure size.\n",
    "plt.figure(figsize=(12, 8))\n",
    "\n",
    "# Generate line plot of training, testing loss over epochs.\n",
    "plt.plot(train_accuracy, label='Training Accuracy', color='#185fad')\n",
    "plt.plot(val_accuracy, label='Validation Accuracy', color='orange')\n",
    "\n",
    "# Set title\n",
    "plt.title('Training and Validation Accuracy by Epoch', fontsize = 25)\n",
    "plt.xlabel('Epoch', fontsize = 18)\n",
    "plt.ylabel('Categorical Crossentropy', fontsize = 18)\n",
    "plt.xticks(range(0,100,5), range(0,100,5))\n",
    "\n",
    "plt.legend(fontsize = 18);"
   ]
  },
  {
   "cell_type": "code",
   "execution_count": 396,
   "metadata": {},
   "outputs": [],
   "source": [
    "# Using our model to get the predictions for our test data\n",
    "preds = model.predict_classes(X_test)"
   ]
  },
  {
   "cell_type": "code",
   "execution_count": 397,
   "metadata": {},
   "outputs": [
    {
     "name": "stdout",
     "output_type": "stream",
     "text": [
      "0.9898477157360406\n"
     ]
    }
   ],
   "source": [
    "arr = labels[1786:] - preds\n",
    "accuracy = (len(arr) - np.count_nonzero(arr)) / len(arr)\n",
    "print(accuracy)"
   ]
  },
  {
   "cell_type": "code",
   "execution_count": 398,
   "metadata": {},
   "outputs": [],
   "source": [
    "########### Linear SVM"
   ]
  },
  {
   "cell_type": "code",
   "execution_count": 399,
   "metadata": {},
   "outputs": [],
   "source": [
    "from sklearn import svm"
   ]
  },
  {
   "cell_type": "code",
   "execution_count": 400,
   "metadata": {},
   "outputs": [],
   "source": [
    "#features , labels\n",
    "X_train = features[:1258]\n",
    "y_train = labels[:1258]\n",
    "\n",
    "X_val = features[1258:1618]\n",
    "y_val = labels[1258:1618]\n",
    "\n",
    "X_test = features[1618:]\n",
    "y_test = labels[1618:]\n"
   ]
  },
  {
   "cell_type": "code",
   "execution_count": 401,
   "metadata": {},
   "outputs": [],
   "source": [
    "clf = svm.SVC(kernel='linear', C = 1.0)\n",
    "clf.fit(X_train,y_train)\n",
    "preds = clf.predict(X_val)"
   ]
  },
  {
   "cell_type": "code",
   "execution_count": 402,
   "metadata": {},
   "outputs": [
    {
     "name": "stdout",
     "output_type": "stream",
     "text": [
      "0.9277777777777778\n"
     ]
    }
   ],
   "source": [
    "arr = y_val - preds\n",
    "accuracy = (len(arr) - np.count_nonzero(arr)) / len(arr)\n",
    "print(accuracy)"
   ]
  },
  {
   "cell_type": "code",
   "execution_count": 403,
   "metadata": {},
   "outputs": [
    {
     "data": {
      "text/plain": [
       "array([[162,  16],\n",
       "       [ 10, 172]], dtype=int64)"
      ]
     },
     "execution_count": 403,
     "metadata": {},
     "output_type": "execute_result"
    }
   ],
   "source": [
    "import sklearn\n",
    "sklearn.metrics.confusion_matrix(y_val, preds)"
   ]
  },
  {
   "cell_type": "code",
   "execution_count": 404,
   "metadata": {},
   "outputs": [
    {
     "name": "stdout",
     "output_type": "stream",
     "text": [
      "0.9561643835616438\n"
     ]
    }
   ],
   "source": [
    "preds2 = clf.predict(X_test)\n",
    "arr = y_test - preds2\n",
    "accuracy = (len(arr) - np.count_nonzero(arr)) / len(arr)\n",
    "print(accuracy)"
   ]
  },
  {
   "cell_type": "code",
   "execution_count": 405,
   "metadata": {},
   "outputs": [
    {
     "data": {
      "text/plain": [
       "array([[167,   5],\n",
       "       [ 11, 182]], dtype=int64)"
      ]
     },
     "execution_count": 405,
     "metadata": {},
     "output_type": "execute_result"
    }
   ],
   "source": [
    "sklearn.metrics.confusion_matrix(y_test, preds2)"
   ]
  },
  {
   "cell_type": "code",
   "execution_count": 406,
   "metadata": {},
   "outputs": [],
   "source": [
    "############### SVM with Polynomial Kernel"
   ]
  },
  {
   "cell_type": "code",
   "execution_count": 407,
   "metadata": {},
   "outputs": [
    {
     "name": "stderr",
     "output_type": "stream",
     "text": [
      "E:\\Anaconda\\lib\\site-packages\\sklearn\\svm\\base.py:193: FutureWarning: The default value of gamma will change from 'auto' to 'scale' in version 0.22 to account better for unscaled features. Set gamma explicitly to 'auto' or 'scale' to avoid this warning.\n",
      "  \"avoid this warning.\", FutureWarning)\n"
     ]
    }
   ],
   "source": [
    "clf = svm.SVC(kernel='poly', C = 1.0)\n",
    "clf.fit(X_train,y_train)\n",
    "preds = clf.predict(X_val)"
   ]
  },
  {
   "cell_type": "code",
   "execution_count": 408,
   "metadata": {},
   "outputs": [
    {
     "name": "stdout",
     "output_type": "stream",
     "text": [
      "0.9777777777777777\n"
     ]
    }
   ],
   "source": [
    "arr = y_val - preds\n",
    "accuracy = (len(arr) - np.count_nonzero(arr)) / len(arr)\n",
    "print(accuracy)"
   ]
  },
  {
   "cell_type": "code",
   "execution_count": 409,
   "metadata": {},
   "outputs": [
    {
     "data": {
      "text/plain": [
       "array([[174,   4],\n",
       "       [  4, 178]], dtype=int64)"
      ]
     },
     "execution_count": 409,
     "metadata": {},
     "output_type": "execute_result"
    }
   ],
   "source": [
    "import sklearn\n",
    "sklearn.metrics.confusion_matrix(y_val, preds)"
   ]
  },
  {
   "cell_type": "code",
   "execution_count": 410,
   "metadata": {},
   "outputs": [
    {
     "name": "stdout",
     "output_type": "stream",
     "text": [
      "0.9753424657534246\n"
     ]
    }
   ],
   "source": [
    "preds2 = clf.predict(X_test)\n",
    "arr = y_test - preds2\n",
    "accuracy = (len(arr) - np.count_nonzero(arr)) / len(arr)\n",
    "print(accuracy)"
   ]
  },
  {
   "cell_type": "code",
   "execution_count": 411,
   "metadata": {},
   "outputs": [
    {
     "data": {
      "text/plain": [
       "array([[169,   3],\n",
       "       [  6, 187]], dtype=int64)"
      ]
     },
     "execution_count": 411,
     "metadata": {},
     "output_type": "execute_result"
    }
   ],
   "source": [
    "sklearn.metrics.confusion_matrix(y_test, preds2)"
   ]
  },
  {
   "cell_type": "code",
   "execution_count": 412,
   "metadata": {},
   "outputs": [],
   "source": [
    "################## Naive Bayes"
   ]
  },
  {
   "cell_type": "code",
   "execution_count": 413,
   "metadata": {},
   "outputs": [],
   "source": [
    "from sklearn.naive_bayes import GaussianNB\n",
    "gnb = GaussianNB()\n",
    "preds = gnb.fit(X_train, y_train).predict(X_val)"
   ]
  },
  {
   "cell_type": "code",
   "execution_count": 414,
   "metadata": {},
   "outputs": [
    {
     "name": "stdout",
     "output_type": "stream",
     "text": [
      "0.6416666666666667\n"
     ]
    }
   ],
   "source": [
    "arr = y_val - preds\n",
    "accuracy = (len(arr) - np.count_nonzero(arr)) / len(arr)\n",
    "print(accuracy)"
   ]
  },
  {
   "cell_type": "code",
   "execution_count": 415,
   "metadata": {},
   "outputs": [
    {
     "data": {
      "text/plain": [
       "array([[ 60, 118],\n",
       "       [ 11, 171]], dtype=int64)"
      ]
     },
     "execution_count": 415,
     "metadata": {},
     "output_type": "execute_result"
    }
   ],
   "source": [
    "sklearn.metrics.confusion_matrix(y_val, preds)"
   ]
  },
  {
   "cell_type": "code",
   "execution_count": 416,
   "metadata": {},
   "outputs": [
    {
     "name": "stdout",
     "output_type": "stream",
     "text": [
      "0.6493150684931507\n"
     ]
    }
   ],
   "source": [
    "preds = gnb.fit(X_train, y_train).predict(X_test)\n",
    "arr = y_test - preds\n",
    "accuracy = (len(arr) - np.count_nonzero(arr)) / len(arr)\n",
    "print(accuracy)"
   ]
  },
  {
   "cell_type": "code",
   "execution_count": 417,
   "metadata": {},
   "outputs": [
    {
     "data": {
      "text/plain": [
       "array([[ 57, 115],\n",
       "       [ 13, 180]], dtype=int64)"
      ]
     },
     "execution_count": 417,
     "metadata": {},
     "output_type": "execute_result"
    }
   ],
   "source": [
    "sklearn.metrics.confusion_matrix(y_test, preds)"
   ]
  },
  {
   "cell_type": "code",
   "execution_count": 418,
   "metadata": {},
   "outputs": [],
   "source": [
    "import scipy.cluster.hierarchy as shc"
   ]
  },
  {
   "cell_type": "code",
   "execution_count": 419,
   "metadata": {},
   "outputs": [
    {
     "data": {
      "image/png": "[encoded data removed]",
      "text/plain": [
       "<Figure size 720x504 with 1 Axes>"
      ]
     },
     "metadata": {
      "needs_background": "light"
     },
     "output_type": "display_data"
    }
   ],
   "source": [
    "plt.figure(figsize=(10, 7))\n",
    "plt.title(\"Dendogram\")\n",
    "dend = shc.dendrogram(shc.linkage(features, method='ward'))"
   ]
  },
  {
   "cell_type": "code",
   "execution_count": 420,
   "metadata": {},
   "outputs": [
    {
     "name": "stdout",
     "output_type": "stream",
     "text": [
      "[0 0 1 ... 1 0 1]\n"
     ]
    }
   ],
   "source": [
    "## based on the dendgram and lifetimes, the best number of clusters seems to be : 2, Hence: \n",
    "from sklearn.cluster import AgglomerativeClustering\n",
    "\n",
    "cluster = AgglomerativeClustering(n_clusters=2, affinity='euclidean', linkage='ward')\n",
    "ClusterLabels = cluster.fit_predict(features)\n",
    "print(ClusterLabels)"
   ]
  },
  {
   "cell_type": "code",
   "execution_count": 421,
   "metadata": {},
   "outputs": [
    {
     "name": "stdout",
     "output_type": "stream",
     "text": [
      "0.6086737266767523\n"
     ]
    }
   ],
   "source": [
    "arr = labels - ClusterLabels\n",
    "accuracy = (len(arr) - np.count_nonzero(arr)) / len(arr)\n",
    "print(accuracy)"
   ]
  },
  {
   "cell_type": "code",
   "execution_count": 422,
   "metadata": {},
   "outputs": [
    {
     "name": "stdout",
     "output_type": "stream",
     "text": [
      "[1 1 1 ... 1 1 1]\n"
     ]
    }
   ],
   "source": [
    "## based on the dendgram and lifetimes, the best number of clusters seems to be : 2, Hence:  \n",
    "from sklearn.cluster import KMeans\n",
    "\n",
    "from sklearn.preprocessing import StandardScaler\n",
    "ss = StandardScaler()\n",
    "normalized_features = ss.fit_transform(features)\n",
    "\n",
    "\n",
    "cluster = KMeans(n_clusters=2).fit(normalized_features)\n",
    "ClusterLabels = cluster.fit_predict(normalized_features)\n",
    "print(ClusterLabels)"
   ]
  },
  {
   "cell_type": "code",
   "execution_count": 423,
   "metadata": {},
   "outputs": [
    {
     "name": "stdout",
     "output_type": "stream",
     "text": [
      "0.524457892082703\n"
     ]
    }
   ],
   "source": [
    "\n",
    "arr = labels - ClusterLabels\n",
    "accuracy = (len(arr) - np.count_nonzero(arr)) / len(arr)\n",
    "print(accuracy)"
   ]
  },
  {
   "cell_type": "code",
   "execution_count": 424,
   "metadata": {},
   "outputs": [],
   "source": [
    "################## PCA"
   ]
  },
  {
   "cell_type": "code",
   "execution_count": 425,
   "metadata": {},
   "outputs": [],
   "source": [
    "from sklearn.decomposition import PCA\n",
    "pca = PCA(n_components=2)\n",
    "pca.fit(features)\n",
    "X_pca = pca.transform(features)\n",
    "X_new = pca.inverse_transform(X_pca)"
   ]
  },
  {
   "cell_type": "code",
   "execution_count": 426,
   "metadata": {},
   "outputs": [
    {
     "data": {
      "image/png": "[encoded data removed]",
      "text/plain": [
       "<Figure size 432x288 with 1 Axes>"
      ]
     },
     "metadata": {
      "needs_background": "light"
     },
     "output_type": "display_data"
    }
   ],
   "source": [
    "Data = np.array(X_new)\n",
    "indices_of_males = np.where(np.array(labels) == 0)\n",
    "indices_of_females = np.where(np.array(labels) == 1)\n",
    "male = np.take(Data, indices_of_males, axis=0)\n",
    "m = male[0,:,:]\n",
    "female = np.take(Data, indices_of_females, axis=0)\n",
    "f = female[0,:,:]\n",
    "plt.scatter(m[:, 0],  m[:, 1], alpha=0.8, label='male')\n",
    "plt.scatter(f[:, 0], f[:, 1], alpha=0.8, label='female')\n",
    "plt.legend()\n",
    "plt.show()"
   ]
  },
  {
   "cell_type": "code",
   "execution_count": 428,
   "metadata": {},
   "outputs": [],
   "source": [
    "### Analysis of Clustering with respect to \"identity\", investigation of high number of clusters"
   ]
  },
  {
   "cell_type": "code",
   "execution_count": 484,
   "metadata": {},
   "outputs": [],
   "source": [
    "# importing data\n",
    "a1 = np.load('D:/Uni/this term/Pattern Recognition/CA/features_label2_4.npy', allow_pickle = True)\n",
    "a2 = np.load('D:/Uni/this term/Pattern Recognition/CA/features_label5_7.npy', allow_pickle = True)\n",
    "a3 = np.load('D:/Uni/this term/Pattern Recognition/CA/features_label10.npy', allow_pickle = True)\n",
    "a4 = np.load('D:/Uni/this term/Pattern Recognition/CA/features_label11_13.npy', allow_pickle = True)\n",
    "a5 = np.load('D:/Uni/this term/Pattern Recognition/CA/features_label14_17.npy', allow_pickle = True)"
   ]
  },
  {
   "cell_type": "code",
   "execution_count": 485,
   "metadata": {},
   "outputs": [
    {
     "data": {
      "text/plain": [
       "(1989,)"
      ]
     },
     "execution_count": 485,
     "metadata": {},
     "output_type": "execute_result"
    }
   ],
   "source": [
    "a = np.concatenate((a1,a2,a3,a4,a5),axis=0)\n",
    "a.shape"
   ]
  },
  {
   "cell_type": "code",
   "execution_count": 489,
   "metadata": {},
   "outputs": [],
   "source": [
    "import pandas as pd\n",
    "\n",
    "df = pd.read_csv (r'D:/Uni/this term/Pattern Recognition/CA/info_true_subject_DS.csv')"
   ]
  },
  {
   "cell_type": "code",
   "execution_count": 490,
   "metadata": {},
   "outputs": [
    {
     "data": {
      "text/plain": [
       "1989"
      ]
     },
     "execution_count": 490,
     "metadata": {},
     "output_type": "execute_result"
    }
   ],
   "source": [
    "len(df.subject)"
   ]
  },
  {
   "cell_type": "code",
   "execution_count": 491,
   "metadata": {},
   "outputs": [],
   "source": [
    "features_label = [ele for ele in a if ele != []] "
   ]
  },
  {
   "cell_type": "code",
   "execution_count": 492,
   "metadata": {},
   "outputs": [],
   "source": [
    "to_remove = [i for i,x in enumerate(a) if not x]\n",
    "subjects = np.array(df.subject)\n",
    "subjects = np.delete(subjects,to_remove)"
   ]
  },
  {
   "cell_type": "code",
   "execution_count": 493,
   "metadata": {},
   "outputs": [
    {
     "data": {
      "text/plain": [
       "1983"
      ]
     },
     "execution_count": 493,
     "metadata": {},
     "output_type": "execute_result"
    }
   ],
   "source": [
    "len(subjects)"
   ]
  },
  {
   "cell_type": "code",
   "execution_count": 494,
   "metadata": {},
   "outputs": [
    {
     "data": {
      "text/plain": [
       "1983"
      ]
     },
     "execution_count": 494,
     "metadata": {},
     "output_type": "execute_result"
    }
   ],
   "source": [
    "len(features_label)"
   ]
  },
  {
   "cell_type": "code",
   "execution_count": 495,
   "metadata": {},
   "outputs": [],
   "source": [
    "import random\n",
    "temp = list(zip(features_label, subjects)) \n",
    "random.shuffle(temp) \n",
    "features_label, subjects = zip(*temp) "
   ]
  },
  {
   "cell_type": "code",
   "execution_count": 499,
   "metadata": {},
   "outputs": [],
   "source": [
    "features = []\n",
    "for i in range(0, len(features_label)):\n",
    "    features.append(np.concatenate((features_label[i][0], features_label[i][1], \n",
    "                features_label[i][2], features_label[i][3],\n",
    "                features_label[i][4]), axis=0))"
   ]
  },
  {
   "cell_type": "code",
   "execution_count": 500,
   "metadata": {},
   "outputs": [],
   "source": [
    "# Clustering using Agglomerstive algorithm for high number of classifiers\n",
    "number_of_clusters = np.max(subjects)\n",
    "cluster = AgglomerativeClustering(n_clusters= number_of_clusters, affinity='euclidean', linkage='ward')\n",
    "ClusterLabels = cluster.fit_predict(features)"
   ]
  },
  {
   "cell_type": "code",
   "execution_count": 510,
   "metadata": {},
   "outputs": [],
   "source": [
    "arr = np.zeros([len(subjects),2])\n",
    "arr[:,0] = subjects\n",
    "arr[:,1] = ClusterLabels\n",
    "sorted_arr = arr[np.argsort(arr[:, 0])]"
   ]
  },
  {
   "cell_type": "code",
   "execution_count": 513,
   "metadata": {},
   "outputs": [],
   "source": [
    "fname = 'D:/Uni/this term/Pattern Recognition/CA/clustering.csv'\n",
    "np.savetxt(fname, sorted_arr, fmt='%d', delimiter=' ', newline='\\n', header='', footer='', comments='# ', encoding=None)"
   ]
  },
  {
   "cell_type": "code",
   "execution_count": 589,
   "metadata": {},
   "outputs": [],
   "source": [
    "current_cluster = list([])\n",
    "all_clusters_list = list([]) \n",
    "prev_var = 1\n",
    "for i in range(0,len(sorted_arr)):\n",
    "    var = sorted_arr[i,0]\n",
    "    if var > prev_var:\n",
    "        all_clusters_list.append(current_cluster)\n",
    "        current_cluster = list([])\n",
    "        current_cluster.append(sorted_arr[i,1])\n",
    "        prev_var = var\n",
    "        continue\n",
    "    current_cluster.append(sorted_arr[i,1])\n",
    "    prev_var = var\n",
    "all_clusters_list.append(list(sorted_arr[1973:1983,1]))"
   ]
  },
  {
   "cell_type": "code",
   "execution_count": 593,
   "metadata": {},
   "outputs": [],
   "source": [
    "def get_maximum_freuency_and_most_frequent(test_list):\n",
    "    maxim = 0\n",
    "    res = test_list[0] \n",
    "    for i in test_list: \n",
    "        freq = test_list.count(i) \n",
    "        if freq > maxim: \n",
    "            maxim = freq \n",
    "            res = i\n",
    "    return maxim, res"
   ]
  },
  {
   "cell_type": "code",
   "execution_count": 594,
   "metadata": {},
   "outputs": [],
   "source": [
    "sizes_of_clusters = np.zeros(115)\n",
    "for i in range(0,115):\n",
    "    sizes_of_clusters[i] = len(all_clusters_list[i])"
   ]
  },
  {
   "cell_type": "code",
   "execution_count": 596,
   "metadata": {},
   "outputs": [],
   "source": [
    "most_frequencies_in_clusters = np.zeros(115)\n",
    "num_of_frequent_subject = np.zeros(115)\n",
    "for i in range(0,115):\n",
    "    most_frequencies_in_clusters [i],num_of_frequent_subject[i] = get_maximum_freuency_and_most_frequent(all_clusters_list[i])"
   ]
  },
  {
   "cell_type": "code",
   "execution_count": 598,
   "metadata": {},
   "outputs": [],
   "source": [
    "cluster_significancy = np.zeros(115)\n",
    "for i in range(0,115):\n",
    "    cluster_significancy[i] = most_frequencies_in_clusters[i] / sizes_of_clusters[i] "
   ]
  },
  {
   "cell_type": "code",
   "execution_count": 601,
   "metadata": {},
   "outputs": [
    {
     "name": "stdout",
     "output_type": "stream",
     "text": [
      "50\n"
     ]
    }
   ],
   "source": [
    "print(sum(cluster_significancy > 0.5))"
   ]
  },
  {
   "cell_type": "code",
   "execution_count": 435,
   "metadata": {},
   "outputs": [],
   "source": [
    "# Statistical Analysis of Data : Age and Gender (Because of the error in csv format we ommited gender data of folders 1, 8,9)\n",
    "# But for \"age\" we used the whole data"
   ]
  },
  {
   "cell_type": "code",
   "execution_count": 461,
   "metadata": {
    "scrolled": true
   },
   "outputs": [
    {
     "data": {
      "image/png": "[encoded data removed]",
      "text/plain": [
       "<Figure size 432x288 with 1 Axes>"
      ]
     },
     "metadata": {
      "needs_background": "light"
     },
     "output_type": "display_data"
    }
   ],
   "source": [
    "Percentage_of_Male = len(np.where(df.label == 0)[0]) / len(df.label)\n",
    "Percentage_of_Female = len(np.where(df.label == 1)[0]) / len(df.label)\n",
    "import matplotlib.pyplot as plt\n",
    "fig = plt.figure()\n",
    "ax = fig.add_axes([0,0,1,1])\n",
    "s = ['Male', 'Female']\n",
    "percentages = [Percentage_of_Male , Percentage_of_Female]\n",
    "ax.bar(s,percentages)\n",
    "plt.show()"
   ]
  },
  {
   "cell_type": "code",
   "execution_count": 476,
   "metadata": {
    "scrolled": true
   },
   "outputs": [
    {
     "data": {
      "image/png": "[encoded data removed]",
      "text/plain": [
       "<Figure size 432x288 with 1 Axes>"
      ]
     },
     "metadata": {
      "needs_background": "light"
     },
     "output_type": "display_data"
    }
   ],
   "source": [
    "ages = 1399 - df.birth \n",
    "number_of_bins = 20\n",
    "plt.hist(ages, bins = number_of_bins)\n",
    "plt.show()"
   ]
  },
  {
   "cell_type": "code",
   "execution_count": 481,
   "metadata": {},
   "outputs": [
    {
     "data": {
      "image/png": "[encoded data removed]",
      "text/plain": [
       "<Figure size 432x288 with 1 Axes>"
      ]
     },
     "metadata": {
      "needs_background": "light"
     },
     "output_type": "display_data"
    }
   ],
   "source": [
    "import pandas as pd\n",
    "\n",
    "dff = pd.read_csv (r'D:/Uni/this term/Pattern Recognition/CA/info_true_subject _all.csv')\n",
    "ages = 1399 - dff.birth \n",
    "number_of_bins = 20\n",
    "plt.hist(ages, bins = number_of_bins)\n",
    "plt.show()"
   ]
  },
  {
   "cell_type": "code",
   "execution_count": 482,
   "metadata": {},
   "outputs": [
    {
     "data": {
      "text/plain": [
       "26.44136622390892"
      ]
     },
     "execution_count": 482,
     "metadata": {},
     "output_type": "execute_result"
    }
   ],
   "source": [
    "np.mean(np.array(ages))"
   ]
  }
 ],
 "metadata": {
  "kernelspec": {
   "display_name": "Python 3",
   "language": "python",
   "name": "python3"
  },
  "language_info": {
   "codemirror_mode": {
    "name": "ipython",
    "version": 3
   },
   "file_extension": ".py",
   "mimetype": "text/x-python",
   "name": "python",
   "nbconvert_exporter": "python",
   "pygments_lexer": "ipython3",
   "version": "3.7.3"
  }
 },
 "nbformat": 4,
 "nbformat_minor": 2
}
